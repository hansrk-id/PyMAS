{
 "cells": [
  {
   "cell_type": "markdown",
   "metadata": {},
   "source": [
    "# 4a Commute Setup\n",
    "\n",
    "This module records the length, type (gp, hov, or rev), and number of good days for each commute file in a given list of directories. It outputs a .csv file with a list of all of the files and the recorded characteristics (this outputs to the location of the *[region]_Commutes.xlsx* file (default is the *./[ccr]/0_Inputs/[region]* folder). The output can then be copied into the *[region]_Commutes.xlsx* file and used for the commute analysis. The Excel file also serves as a recordkeeping and conversion device (no need to change filenames; this allows for a more easily trackable workflow because we can look at previous years' commute files and see what TRAC commute was used) as well as a quick way to verify that the lengths and types match and there are an acceptable number of good days.\n",
    "\n",
    "Before running this script, all that needs to be done is the commute files for a given region/year need to be moved from the W: drive into a local folder. By default, PyMAS assumes that data is located in the *./[ccr]/1_Data/[region]/[year]* folders. If the Directories input area is left blank, then the script will check the default folders. Otherwise, it will check the directories provided in the Directories input area.\n",
    "\n",
    "To run the script, first edit the Inputs and then run the Main Code Block cell."
   ]
  },
  {
   "cell_type": "markdown",
   "metadata": {},
   "source": [
    "## Inputs\n",
    "\n",
    "The inputs to this script are:\n",
    "\n",
    "Base Year, Current Year : the analysis years for the current CCR\n",
    "\n",
    "CCR : Current CCR\n",
    "\n",
    "Source : variable indicating whether to use the paths from the *[region]_Commutes.xlsx* files, default paths (also including the \"Filepaths\" sheet of *0_Interface.xlsx*), or both.\n",
    "\n",
    "Cleanup Filename : boolean variable indicating whether or not to remove the pattern *\".[yr]-01-01.[yr+1]-01-01\"* from filenames"
   ]
  },
  {
   "cell_type": "markdown",
   "metadata": {},
   "source": [
    "## Main Code Block"
   ]
  },
  {
   "cell_type": "code",
   "execution_count": null,
   "metadata": {
    "scrolled": true
   },
   "outputs": [],
   "source": [
    "interface = '0_Interface.xlsx'\n",
    "sheet = 'Inputs'\n",
    "\n",
    "#------------------------------------------------------------------------------\n",
    "# You shouldn't need to edit anything below this line\n",
    "#------------------------------------------------------------------------------\n",
    "\n",
    "# import dependencies\n",
    "from pymas.corridor_tools import *\n",
    "\n",
    "# get inputs from 0_Interface.xlsx \n",
    "inputs = get_inputs('4a', interface, sheet)\n",
    "base_year = inputs['base_year']\n",
    "curr_year = inputs['curr_year']\n",
    "ccr = inputs['ccr']\n",
    "source = inputs['source']\n",
    "cleanup_fname = inputs['cleanup_fname']\n",
    "\n",
    "yrs = [base_year, curr_year]\n",
    "\n",
    "regions = get_batchlist('commute')\n",
    "\n",
    "for reg in regions:\n",
    "    print('\\n\\nProcessing %s'%reg)\n",
    "    \n",
    "    # Define paths for region\n",
    "    paths = define_paths(ccr, reg, base_year, curr_year)\n",
    "    \n",
    "    # Call main function\n",
    "    commute_setup(yrs, reg, ccr, paths, source, cleanup_fname)"
   ]
  }
 ],
 "metadata": {
  "kernelspec": {
   "display_name": "Python 2",
   "language": "python",
   "name": "python2"
  },
  "language_info": {
   "codemirror_mode": {
    "name": "ipython",
    "version": 2
   },
   "file_extension": ".py",
   "mimetype": "text/x-python",
   "name": "python",
   "nbconvert_exporter": "python",
   "pygments_lexer": "ipython2",
   "version": "2.7.15"
  }
 },
 "nbformat": 4,
 "nbformat_minor": 2
}
