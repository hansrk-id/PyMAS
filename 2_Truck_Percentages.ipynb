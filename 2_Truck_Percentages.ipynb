{
 "cells": [
  {
   "cell_type": "markdown",
   "metadata": {},
   "source": [
    "# 2 Truck Percentages\n",
    "\n",
    "This script uses data from the \"Traffic Sections - Directional\" layer on the GIS Workbench (or similarly formatted data from TDGMO) to add truck percentage columns to the corridor config files.\n",
    "\n",
    "The preparation includes preparing each corridor's config file (named as *[corridor]_[region]_config.xlsx* and located in the *./[ccr]/0_Inputs/[region]* folders) and preparing the *TruckPercent[year].csv* file, as described below.\n",
    "\n",
    "### Corridor configuration file preparation:\n",
    "\n",
    "To prepare the corridor config file (e.g. *5_NWR_config.xlsx* for I-5 in Northwest Region): \n",
    " - Copy a previous year's sheet (e.g. to create the '2018' sheet, copy the '2017' sheet)\n",
    " - Name it appropriately (the year)\n",
    " - **Manually** change the occupancy and speed limit data as needed\n",
    " - Delete the truck percentage columns (\"ST_pct\" and \"CT_pct\")\n",
    "\n",
    "\n",
    "### Truck percentage file preparation:\n",
    "##### Download data\n",
    "To download the truck percentage data from GIS:\n",
    " - From the GIS workbench, add the \"Traffic Sections - Directional\" layer to a map document\n",
    " - Open the layer's attribute table\n",
    " - Ensure that the LRSDate is the correct year (e.g. for 2017, the LRSDate is 12/31/2017)\n",
    "     - Note: for 2017, this data was available on the workbench in mid-June 2018. Availability may vary by year.\n",
    " - In the \"Table Options\" menu, click \"Export\" then in the \"Browse\" dialog box, change the type to \"Text File\" and save the output as 'TruckPercent[year].csv' in the *./[ccr]/0_Inputs/_TruckPercent/* folder.\n",
    "\n",
    "\n",
    "-OR-\n",
    "\n",
    "To get truck percentage data from TDGMO (Note: the main advantage to this is that you can get the data a few weeks earlier):\n",
    " - Send the file (*./[ccr]/0_Inputs/_TruckPercent/TDGMO Template/Traffic Sections 2016 (1 24K Directional).xlsx*) to TDGMO (Joe St. Charles is the correct contact as of 2018) and ask for a similar file for the current year.\n",
    " - Save one of the two tabs (Increasing or Decreasing) as *TruckPercent[year].csv* in the *./[ccr]/0_Inputs/_TruckPercent/* folder.\n",
    "\n",
    "##### Prepare data\n",
    "After saving *TruckPercent[year].csv* (from either workbench or TDGMO):\n",
    " - Open the .csv file in Excel and ensure that the Route ID variable (typically the third column, may also be name \"RouteIdentifier\" or some variant) is named \"Route_ID\"; that is, *if* it is named \"RouteIdentifier\" or something else then rename it \"Route_ID\".\n",
    "     - Note: it is important that this is the Route ID field (some of which include suffixes, e.g. \"020SPANACRT\") **not** the Route Number (e.g. \"StateRouteNumber\" or some variant) field, which is typically the fourth column.\n",
    " - Also ensure that the \"Location\" variable (of the form \"From Milepost [] to Milepost []\") is named \"Location\" and the single-, double-, and triple-unit truck percent variables are named \"SingleUnitTruckPct\", \"DoubleUnitTruckPct\", and \"TripleUnitTruckPct\", respectively.\n",
    " - If desired, all other columns (i.e. all except Route_ID, Location, SingleUnitTruckPct, DoubleUnitTruckPct, and TripleUnitTruckPct) may be removed from the .csv file as they will not be used."
   ]
  },
  {
   "cell_type": "markdown",
   "metadata": {},
   "source": [
    "## Inputs\n",
    "\n",
    "Before running this script, prepare the input files as described above. After preparing the input files, the remaining inputs are:\n",
    "\n",
    "\n",
    "CCR : the current CCR and name of the main folder for the current CCR (e.g. 'CCR 18')\n",
    "\n",
    "Years : this is a list of years for which truck percentages still need to be added to the config file. There should already be truck percentages for previous years so only the most recent year (e.g. 2018 for CCR 19) will need to be calculated.\n",
    "\n",
    "\n",
    "**Note: The ER and SCR truck percentages cannot be populated using this script because they do not use milepost-based contour files, but use road sections (e.g. loop station names for ER and TMCs for SCR). They need to be populated using COGNOS (or by requesting data)**\n"
   ]
  },
  {
   "cell_type": "markdown",
   "metadata": {},
   "source": [
    "## Main Code Block"
   ]
  },
  {
   "cell_type": "code",
   "execution_count": null,
   "metadata": {},
   "outputs": [],
   "source": [
    "interface = '0_Interface.xlsx'\n",
    "sheet = 'Inputs'\n",
    "\n",
    "#------------------------------------------------------------------------------\n",
    "# You shouldn't need to edit anything below this line\n",
    "#------------------------------------------------------------------------------\n",
    "\n",
    "# import dependencies\n",
    "from pymas.corridor_tools import truck_percentage, get_inputs\n",
    "import warnings\n",
    "warnings.filterwarnings('ignore')\n",
    "\n",
    "# get inputs from 0_Interface.xlsx \n",
    "inputs = get_inputs(step='2', interface=interface, sheet=sheet)\n",
    "ccr = inputs['ccr']\n",
    "yrs = inputs['yrs']\n",
    "\n",
    "# call truck_percentage function\n",
    "truck_percentage(ccr, yrs)"
   ]
  }
 ],
 "metadata": {
  "kernelspec": {
   "display_name": "Python 2",
   "language": "python",
   "name": "python2"
  },
  "language_info": {
   "codemirror_mode": {
    "name": "ipython",
    "version": 2
   },
   "file_extension": ".py",
   "mimetype": "text/x-python",
   "name": "python",
   "nbconvert_exporter": "python",
   "pygments_lexer": "ipython2",
   "version": "2.7.15"
  }
 },
 "nbformat": 4,
 "nbformat_minor": 2
}
