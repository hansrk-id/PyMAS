{
 "cells": [
  {
   "cell_type": "code",
   "execution_count": 1,
   "metadata": {},
   "outputs": [],
   "source": [
    "import pandas as pd\n",
    "import numpy as np\n",
    "import os\n",
    "import geopandas as gpd\n",
    "from geopandas import GeoSeries, GeoDataFrame\n",
    "from shapely.geometry import Point\n",
    "import fiona\n",
    "\n",
    "%matplotlib inline"
   ]
  },
  {
   "cell_type": "code",
   "execution_count": 5,
   "metadata": {},
   "outputs": [
    {
     "data": {
      "text/plain": [
       "'d'"
      ]
     },
     "execution_count": 5,
     "metadata": {},
     "output_type": "execute_result"
    }
   ],
   "source": []
  },
  {
   "cell_type": "code",
   "execution_count": 2,
   "metadata": {},
   "outputs": [],
   "source": [
    "#------------------------------------------------------------------------------\n",
    "def get_dir(tmc):\n",
    "    key = {'i' : ['+', 'P'],\n",
    "          'd' : ['-', 'N']}\n",
    "\n",
    "    for d, c in key.iteritems():\n",
    "        if tmc[3] in c: \n",
    "            return d\n",
    "\n",
    "#------------------------------------------------------------------------------\n",
    "def find_mp(df_tmc, srs, lrs_gdf, buf_st, buf_inc):\n",
    "\n",
    "    idx = df_tmc.index\n",
    "    res_df = pd.DataFrame()\n",
    "    buf = buf_st\n",
    "\n",
    "    while len(idx) > 0:\n",
    "        idx_ = idx\n",
    "        st_gdf = GeoDataFrame(df_tmc.loc[idx,:], \n",
    "                              geometry=srs.loc[idx].buffer(buf))\n",
    "        full_gdf = gpd.sjoin(st_gdf, lrs_gdf, op='contains')\n",
    "        full_gdf = full_gdf[(full_gdf.road.map(int) == full_gdf.RouteID.map(int)) &\n",
    "                            (full_gdf.index.map(get_dir) == full_gdf.Direction)]\n",
    "        res_df = pd.concat([res_df, full_gdf])\n",
    "\n",
    "        idx = df_tmc.drop(res_df.index, axis=0).index.tolist()\n",
    "        buf+=buf_inc\n",
    "\n",
    "    res_df = res_df.groupby(res_df.index).aggregate({'RouteID' : 'mean',\n",
    "                                                     'SRMP' : 'mean',\n",
    "                                                     'AheadBackI' : lambda x: x.unique()[0],\n",
    "                                                     'ARM' : 'mean'})\n",
    "    \n",
    "    return res_df"
   ]
  },
  {
   "cell_type": "code",
   "execution_count": 3,
   "metadata": {},
   "outputs": [],
   "source": [
    "p_gis = '../RMAS-local/4 - GIS/Washington2017'\n",
    "f_shp = 'LRS2017.shp'\n",
    "p_tmc = '../RMAS-local/1 - Raw/SCR2017'\n",
    "f_csv = 'TMC_Identification.csv'\n",
    "\n",
    "lrs_f = os.path.join(p_gis, f_shp)\n",
    "tmc_f = os.path.join(p_tmc, f_csv)\n",
    "\n",
    "with fiona.open(lrs_f) as f:\n",
    "    lrs_crs = f.crs\n",
    "tmc_crs = {'init' : 'epsg:4326'}\n",
    "    \n",
    "cols = [u'tmc', u'road', u'direction', u'start_latitude', \n",
    "        u'start_longitude', u'end_latitude',\n",
    "        u'end_longitude', u'miles']\n",
    "\n",
    "df_tmc = pd.read_csv(tmc_f, usecols=cols, index_col='tmc')\n",
    "df_tmc.index.name = 'tmc'\n",
    "df_tmc.road = df_tmc.road.map(lambda x: int(x.split('-')[1]))\n",
    "\n",
    "# define start end end point geometry Series from tmc dataframe\n",
    "st_geom = [Point(xy) for xy in zip(df_tmc['start_longitude'], \n",
    "                                   df_tmc['start_latitude'])]\n",
    "st_srs = GeoSeries(st_geom, crs=tmc_crs, index=df_tmc.index).to_crs(lrs_crs)\n",
    "\n",
    "e_geom = [Point(xy) for xy in zip(df_tmc['end_longitude'], \n",
    "                                   df_tmc['end_latitude'])]\n",
    "e_srs = GeoSeries(e_geom, crs=tmc_crs, index=df_tmc.index).to_crs(lrs_crs)\n",
    "\n",
    "# get bounding box\n",
    "bds = pd.concat([st_srs, e_srs]).buffer(50).bounds\n",
    "bbox = (bds.minx.min(), bds.miny.min(), bds.maxx.max(), bds.maxy.max())\n",
    "\n",
    "# load points from lrs file within bounding box\n",
    "lrs_gdf = GeoDataFrame.from_file(lrs_f, bbox=bbox)\n",
    "\n",
    "cors = map(lambda x: '%3d'%x, df_tmc.road.unique().tolist())\n",
    "cols = [u'RouteID', u'ARM', u'SRMP', u'AheadBackI', u'Direction', u'geometry']\n",
    "\n",
    "lrs_gdf = lrs_gdf.reindex(columns=cols)\n",
    "lrs_gdf = lrs_gdf[lrs_gdf.RouteID.map(lambda x: x in cors)]\n",
    "lrs_gdf.RouteID = lrs_gdf.RouteID.map(int)"
   ]
  },
  {
   "cell_type": "code",
   "execution_count": 26,
   "metadata": {},
   "outputs": [],
   "source": [
    "\n",
    "df1 = find_mp(df_tmc, st_srs, lrs_gdf, 10, 10)\n",
    "df2 = find_mp(df_tmc, e_srs, lrs_gdf, 10, 10)\n",
    "\n"
   ]
  },
  {
   "cell_type": "code",
   "execution_count": 4,
   "metadata": {},
   "outputs": [
    {
     "data": {
      "text/plain": [
       "<matplotlib.axes._subplots.AxesSubplot at 0x11ee76a0>"
      ]
     },
     "execution_count": 4,
     "metadata": {},
     "output_type": "execute_result"
    },
    {
     "data": {
      "image/png": "[encoded data removed]",
      "text/plain": [
       "<matplotlib.figure.Figure at 0x11ee7080>"
      ]
     },
     "metadata": {},
     "output_type": "display_data"
    }
   ],
   "source": [
    "lrs_gdf.plot()"
   ]
  },
  {
   "cell_type": "code",
   "execution_count": 39,
   "metadata": {},
   "outputs": [],
   "source": [
    "#------------------------------------------------------------------------------\n",
    "df = pd.merge(df1, df2, \n",
    "              left_index=True, right_index=True, \n",
    "              suffixes=['_start', '_end'])\n",
    "df.drop(columns=['RouteID_end'], inplace=True)\n",
    "df.rename(columns={'RouteID_start' : 'RouteID',\n",
    "                   'SRMP_start' : 'begSRMP',\n",
    "                   'AheadBackI_start' : 'begAB',\n",
    "                   'ARM_start' : 'begARM',\n",
    "                   'SRMP_end' : 'endSRMP',\n",
    "                   'AheadBackI_end' : 'endAB',\n",
    "                   'ARM_end' : 'endARM'},\n",
    "          inplace=True)\n",
    "df = df.reindex(['RouteID', 'begSRMP', 'begAB', 'endSRMP', 'endAB',\n",
    "                 'begARM', 'endARM'], \n",
    "                 axis=1)\n",
    "df['direction'] = df.index.map(get_dir)\n",
    "df.index.name = 'tmc'\n",
    "df = df.sort_values(['RouteID', 'direction', 'begSRMP'])\n",
    "df['length'] = df_tmc['miles']\n",
    "df['lenARM'] = (df.endARM - df.begARM).map(abs)\n",
    "df = pd.merge(df, df_sl, left_index=True, right_index=True, how='left')\n",
    "df.to_csv('tmc4.csv')"
   ]
  },
  {
   "cell_type": "markdown",
   "metadata": {},
   "source": [
    "### Speed Limit"
   ]
  },
  {
   "cell_type": "code",
   "execution_count": 15,
   "metadata": {},
   "outputs": [],
   "source": [
    "p_gis = '../RMAS-local/4 - GIS/Washington2017'\n",
    "sl_shp = 'SL2017.shp'\n",
    "tmc_shp = 'Washington2017.shp'\n",
    "\n",
    "sl_f = os.path.join(p_gis, sl_shp)\n",
    "tmc_f = os.path.join(p_gis, tmc_shp)\n",
    "\n",
    "# load points from lrs file within bounding box\n",
    "sl_gdf = GeoDataFrame.from_file(sl_f)#, bbox=bbox)\n",
    "sl_gdf = sl_gdf[sl_gdf.RouteID.map(lambda x: x in cors)]\n",
    "\n",
    "tmc_gdf = GeoDataFrame.from_file(tmc_f)\n",
    "tmc_gdf = tmc_gdf[tmc_gdf.Tmc.map(lambda x : x in df_tmc.index)]\n",
    "tmc_gdf = tmc_gdf.to_crs(lrs_crs)\n",
    "tmc_gdf2 = tmc_gdf.copy()\n",
    "tmc_buf = GeoDataFrame(tmc_gdf, geometry=tmc_gdf2.buffer(300))"
   ]
  },
  {
   "cell_type": "code",
   "execution_count": 18,
   "metadata": {},
   "outputs": [
    {
     "data": {
      "text/plain": [
       "(1975910.5056965887, 341732.24089609616)"
      ]
     },
     "execution_count": 18,
     "metadata": {},
     "output_type": "execute_result"
    }
   ],
   "source": [
    "line = tmc_gdf2.geometry.iloc[0]\n",
    "line.coords[-1]"
   ]
  },
  {
   "cell_type": "code",
   "execution_count": null,
   "metadata": {},
   "outputs": [],
   "source": [
    "res_df = pd.DataFrame()\n",
    "\n",
    "for i, row in tmc_gdf2.iterrows():\n",
    "    tmc = row['Tmc']\n",
    "    route_id = row['RoadNumber']\n",
    "    line = row.geometry\n",
    "    n_interp = int(line.length / 52.8)\n",
    "    \n",
    "    geom = [line.interpolate(52.8 * x) for x in range(0, n_interp)]\n",
    "    \n",
    "    df = GeoDataFrame({'sl' : [sl] * len(geom),\n",
    "                      'RouteID' : [route_id] * len(geom)}, \n",
    "                      index=range(0, len(geom)), \n",
    "                      geometry=geom, crs=lrs_crs)\n",
    "    \n",
    "    res_df = pd.concat([res_df, df])"
   ]
  },
  {
   "cell_type": "code",
   "execution_count": 32,
   "metadata": {},
   "outputs": [],
   "source": [
    "res_df = pd.DataFrame()\n",
    "\n",
    "for i, row in sl_gdf.iterrows():\n",
    "    sl = row['LegalSpdLm']\n",
    "    route_id = row['RouteID']\n",
    "    line = row.geometry\n",
    "    length = row.SHAPE_STLe\n",
    "    n_interp = int(line.length / 52.8)\n",
    "    \n",
    "    geom = [line.interpolate(52.8 * x) for x in range(0, n_interp)]\n",
    "    \n",
    "    df = GeoDataFrame({'sl' : [sl] * len(geom),\n",
    "                      'RouteID' : [route_id] * len(geom)}, \n",
    "                      index=range(0, len(geom)), \n",
    "                      geometry=geom, crs=lrs_crs)\n",
    "    \n",
    "    res_df = pd.concat([res_df, df])"
   ]
  },
  {
   "cell_type": "code",
   "execution_count": 33,
   "metadata": {},
   "outputs": [],
   "source": [
    "df_sl = gpd.sjoin(tmc_buf, res_df, how='left', op='contains')\n",
    "df_sl = df_sl[(df_sl.RoadNumber.map(int) == df_sl.RouteID.map(int)) & \\\n",
    "              (df_sl.sl > 0)]\n",
    "df_sl = df_sl.groupby('Tmc').agg({'sl' : 'mean'})"
   ]
  },
  {
   "cell_type": "code",
   "execution_count": 35,
   "metadata": {},
   "outputs": [],
   "source": [
    "df_sl = df_sl[df_sl.sl > 0]\n",
    "df_sl = df_sl.groupby('Tmc').agg({'sl' : 'mean'})\n",
    "#df_sl.to_csv('SW_sl_agg.csv')"
   ]
  },
  {
   "cell_type": "code",
   "execution_count": 68,
   "metadata": {},
   "outputs": [
    {
     "data": {
      "text/plain": [
       "<matplotlib.axes._subplots.AxesSubplot at 0x18bc9a90>"
      ]
     },
     "execution_count": 68,
     "metadata": {},
     "output_type": "execute_result"
    },
    {
     "data": {
      "image/png": "[encoded data removed]",
      "text/plain": [
       "<matplotlib.figure.Figure at 0x140444e0>"
      ]
     },
     "metadata": {},
     "output_type": "display_data"
    }
   ],
   "source": [
    "geom = tmc_gdf2.geometry.apply(lambda x: Point(x.coords[0]))\n",
    "geom2 = tmc_gdf2.geometry.apply(lambda x: Point(x.coords[-1]))\n",
    "\n",
    "\n",
    "ax = lrs_gdf.plot()\n",
    "GeoDataFrame(tmc_gdf2, geometry=geom2).plot(ax=ax)"
   ]
  },
  {
   "cell_type": "markdown",
   "metadata": {},
   "source": [
    "# Later..."
   ]
  },
  {
   "cell_type": "code",
   "execution_count": 375,
   "metadata": {},
   "outputs": [
    {
     "data": {
      "text/plain": [
       "<matplotlib.axes._subplots.AxesSubplot at 0x1b290668>"
      ]
     },
     "execution_count": 375,
     "metadata": {},
     "output_type": "execute_result"
    },
    {
     "data": {
      "image/png": "[encoded data removed]",
      "text/plain": [
       "<matplotlib.figure.Figure at 0x39b4ef28>"
      ]
     },
     "metadata": {},
     "output_type": "display_data"
    },
    {
     "data": {
      "image/png": "[encoded data removed]",
      "text/plain": [
       "<matplotlib.figure.Figure at 0x397da2e8>"
      ]
     },
     "metadata": {},
     "output_type": "display_data"
    }
   ],
   "source": [
    "line = lrs_gdf.geometry[0]\n",
    "\n",
    "geom = [Point(xy) for xy in line.coords]\n",
    "GeoSeries(geom, crs=lrs_crs).plot()\n",
    "\n",
    "xys = [line.interpolate(52.8 * x) for x in range(0, int(line.length / 52.8))]\n",
    "\n",
    "GeoSeries(xys, crs=lrs_crs).plot()"
   ]
  },
  {
   "cell_type": "code",
   "execution_count": 384,
   "metadata": {},
   "outputs": [
    {
     "data": {
      "text/plain": [
       "40"
      ]
     },
     "execution_count": 384,
     "metadata": {},
     "output_type": "execute_result"
    }
   ],
   "source": [
    "int(line.length / 52.8)"
   ]
  }
 ],
 "metadata": {
  "kernelspec": {
   "display_name": "Python 2",
   "language": "python",
   "name": "python2"
  },
  "language_info": {
   "codemirror_mode": {
    "name": "ipython",
    "version": 2
   },
   "file_extension": ".py",
   "mimetype": "text/x-python",
   "name": "python",
   "nbconvert_exporter": "python",
   "pygments_lexer": "ipython2",
   "version": "2.7.14"
  }
 },
 "nbformat": 4,
 "nbformat_minor": 2
}
