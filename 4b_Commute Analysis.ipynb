{
 "cells": [
  {
   "cell_type": "markdown",
   "metadata": {},
   "source": [
    "# 4b Commute Analysis\n",
    "\n",
    "This module calculates commute-level metrics (peak 5-minute times; average, 50-, 80-, 90-, and 95-percentile travel times; vmt; and duration and cost of congestion). The resulting Excel files contain tables that are read into the SummaryStats Excel sheet and form the basis of the GP (and, for NWR only, HOV) appendix tables. The module also produces the congestion and severe congestion plots for each commute as well as travel time and speed plots for data exploration.\n",
    "\n",
    "Before running this module, several steps need to be completed. First, *3a_Corridor_Analysis* needs to be completed for the corridors in the region(s) that you would like to process. The *[corridor] [region].dat* files output by that module will be used to calculate vmt in this module. Although it is not necessary to complete *4a_Commute_Setup*, completing that module will help eliminate potential errors/discrepancies in the commute files and prevent the need to re-run this analysis if you find data discrepancies in the results. Even if the *4a_Commute_Setup* step is not completed, the *[region]_Commutes.xlsx* file (located by default at *./[ccr]/0_Inputs/[region]*) for the region must be prepared and the commute files from TRAC need to be placed in an appropriate folder (the default path is *./[ccr]/1_Data/[region]/2_Commute Data/[year]/* but a different location may be used if specified in the *[region]_Commutes.xlsx* file).\n",
    "\n",
    "For small regions (all but NWR) the computation does not take very long, so if you want to update any of your input files you can rebuild the entire Region object without taking too much time. However, for large regions (or if every second counts, even on a small region), then you can update specific Commute objects within the Region object. The commutes to **exclude** in an update may be chosen in the *[region]_Commutes.xlsx* file."
   ]
  },
  {
   "cell_type": "markdown",
   "metadata": {},
   "source": [
    "## Inputs\n",
    "\n",
    "The inputs for this module are:\n",
    "\n",
    "Base Year, Current Year : the base and current analysis years for the current analysis. (e.g. 2015, 2017)\n",
    "\n",
    "CCR : the current CCR and name of the main folder for the current CCR (e.g. 'CCR 18')\n",
    "\n",
    "Analyst : analyst's name\n",
    "\n",
    "Suffix (in and out) : the *in* Suffix is the suffix for previously processed and written Region binary objects. The *out* Suffix is a tag to add to the filenames of the Excel and binary outputs of this module. For example, if Suffix = '_8-20-2018' then the Excel outputfile for NWR base-year would be named *NWR_commutes_base_8-20-2018.xlsx*.\n",
    "\n",
    "Plot Types : the types of plot to output. Acceptable Plot Types are:   \n",
    "hov_cong : plots same year congestion - HOV vs GP vs REV  \n",
    "gp_cong : plots comparison of base and current year congestion  \n",
    "gp_sc : plots comparison of base and current year severe congestion  \n",
    "gp_tt : plots comparison of base and current year travel time  \n",
    "gp_spd : plots comparison of base and current year speed  \n",
    "**If the Plot Types input area is left blank, all types will be plotted.**"
   ]
  },
  {
   "cell_type": "markdown",
   "metadata": {},
   "source": [
    "## Main Code Block"
   ]
  },
  {
   "cell_type": "markdown",
   "metadata": {},
   "source": [
    "#### Import Dependencies"
   ]
  },
  {
   "cell_type": "code",
   "execution_count": 1,
   "metadata": {},
   "outputs": [],
   "source": [
    "#---------------------------- import dependencies -----------------------------\n",
    "import os\n",
    "import pickle\n",
    "import pymas\n",
    "from pymas.corridor_tools import *\n",
    "from pymas.pymas_classes import Region\n",
    "\n",
    "# disable warnings\n",
    "import warnings\n",
    "warnings.filterwarnings('ignore')"
   ]
  },
  {
   "cell_type": "markdown",
   "metadata": {},
   "source": [
    "#### Create Region object(s)\n",
    "\n",
    "This cell creates a Region object for each region (selected in Batch) and creates Commute objects for the commutes within the region. "
   ]
  },
  {
   "cell_type": "code",
   "execution_count": 4,
   "metadata": {
    "scrolled": true
   },
   "outputs": [
    {
     "name": "stdout",
     "output_type": "stream",
     "text": [
      "\n",
      "Building SWR Region object\n",
      "Building I-5 (I-5 bridge [Oregon] to I-205 interchange) Commute object\n",
      "Building I-5 (I-205 interchange to I-5 bridge [Oregon]) Commute object\n",
      "Building I-5 (I-5 bridge [Oregon] to SR 500 interchange) Commute object\n",
      "Building I-5 (SR 500 interchange to I-5 bridge [Oregon]) Commute object\n",
      "Building I-205 (Glenn Jackson Bridge [Oregon] to I-5 interchange) Commute object\n",
      "Building I-205 (I-5 interchange to Glenn Jackson Bridge [Oregon]) Commute object\n",
      "Building I-205 (Glenn Jackson Bridge [Oregon] to SR 500 interchange) Commute object\n",
      "Building I-205 (SR 500 interchange to Glenn Jackson Bridge [Oregon]) Commute object\n",
      "Building SR 14 (Camas to I-5 interchange) Commute object\n",
      "Building SR 14 (I-5 interchange to Camas) Commute object\n",
      "Building SR 14 (Camas to I-205 interchange) Commute object\n",
      "Building SR 14 (I-205 interchange to Camas) Commute object\n",
      "\n",
      "\n",
      "Done building objs dictionary\n"
     ]
    }
   ],
   "source": [
    "interface = '0_Interface.xlsx'\n",
    "sheet = 'Inputs'\n",
    "\n",
    "#------------------------------------------------------------------------------\n",
    "# You shouldn't need to edit anything below this line\n",
    "#------------------------------------------------------------------------------\n",
    "\n",
    "# get inputs from 0_Interface.xlsx \n",
    "inputs = get_inputs('4b', interface, sheet)\n",
    "base_year = inputs['base_year']\n",
    "curr_year = inputs['curr_year']\n",
    "ccr = inputs['ccr']\n",
    "analyst = inputs['analyst']\n",
    "\n",
    "regions = get_batchlist('commute')\n",
    "\n",
    "# instantiate empty dictionary to store Region objects\n",
    "objs = {}\n",
    "\n",
    "for reg in regions:\n",
    "    print('\\nBuilding %s Region object'%reg)\n",
    "    com_xl = '%s_Commutes.xlsx'%(reg) #commute inputs\n",
    "    paths = define_paths(ccr, reg, base_year, curr_year)\n",
    "    objs[reg] = Region(com_xl, paths, analyst)\n",
    "\n",
    "print('\\n\\nDone building objs dictionary')"
   ]
  },
  {
   "cell_type": "markdown",
   "metadata": {},
   "source": [
    "#### Write objects to Excel and .dat\n",
    "\n",
    "This cell writes all Region objects in the objs dictionary to Excel files and binary files."
   ]
  },
  {
   "cell_type": "code",
   "execution_count": 5,
   "metadata": {},
   "outputs": [
    {
     "name": "stdout",
     "output_type": "stream",
     "text": [
      "\n",
      "Writing SWR_commutes.dat\n",
      "\n",
      "\n",
      "Done writing files\n"
     ]
    }
   ],
   "source": [
    "interface = '0_Interface.xlsx'\n",
    "sheet = 'Inputs'\n",
    "\n",
    "#------------------------------------------------------------------------------\n",
    "# You shouldn't need to edit anything below this line\n",
    "#------------------------------------------------------------------------------\n",
    "\n",
    "# get inputs from 0_Interface.xlsx \n",
    "inputs = get_inputs('4b', interface, sheet)\n",
    "base_year = inputs['base_year']\n",
    "curr_year = inputs['curr_year']\n",
    "ccr = inputs['ccr']\n",
    "analyst = inputs['analyst']\n",
    "\n",
    "suffix = inputs['suffix_out']\n",
    "\n",
    "regions = get_batchlist('commute')\n",
    "\n",
    "for reg, obj in objs.iteritems():\n",
    "    if obj.name in regions:\n",
    "        print('\\nWriting %s_commutes%s.dat'%(reg, suffix))\n",
    "        obj.export_excel(suffix=suffix)\n",
    "        obj.export_dat(suffix=suffix)\n",
    "\n",
    "print('\\n\\nDone writing files')"
   ]
  },
  {
   "cell_type": "markdown",
   "metadata": {},
   "source": [
    "#### Build objs dictionary from Region object files\n",
    "\n",
    "This cell builds the objs dictionary (either from scratch, or appends the existing objs dictionary if it exists) from binary files of Region objects. This is used if you want to re-load and update or otherwise continue the analysis of an already built Region object."
   ]
  },
  {
   "cell_type": "code",
   "execution_count": 2,
   "metadata": {},
   "outputs": [
    {
     "name": "stdout",
     "output_type": "stream",
     "text": [
      "\n",
      "Loading SWR Region object\n",
      "\n",
      "\n",
      "Done building objs dictionary\n"
     ]
    }
   ],
   "source": [
    "interface = '0_Interface.xlsx'\n",
    "sheet = 'Inputs'\n",
    "\n",
    "#------------------------------------------------------------------------------\n",
    "# You shouldn't need to edit anything below this line\n",
    "#------------------------------------------------------------------------------\n",
    "\n",
    "# get inputs from 0_Interface.xlsx \n",
    "inputs = get_inputs('4b', interface, sheet)\n",
    "base_year = inputs['base_year']\n",
    "curr_year = inputs['curr_year']\n",
    "ccr = inputs['ccr']\n",
    "analyst = inputs['analyst']\n",
    "\n",
    "suffix = inputs['suffix_in']\n",
    "\n",
    "regions = get_batchlist('commute')\n",
    "\n",
    "# if necessary, instantiate empty dictionary to store Region objects\n",
    "try:\n",
    "    objs\n",
    "except:\n",
    "    objs = {}\n",
    "\n",
    "for reg in regions:\n",
    "    print('\\nLoading %s%s Region object'%(reg, suffix))\n",
    "    paths = define_paths(ccr, reg, base_year, curr_year)\n",
    "    \n",
    "    try:\n",
    "        objs[reg] = read_object('%s_commutes%s'%(reg, suffix), 'Region', paths)\n",
    "    except:\n",
    "        print('\\nDid not find %s%s object'%(reg, suffix))        \n",
    "        \n",
    "print('\\n\\nDone building objs dictionary')"
   ]
  },
  {
   "cell_type": "markdown",
   "metadata": {},
   "source": [
    "#### Plot commute data\n",
    "\n",
    "This cell plots the GP and HOV (if applicable) congestion plots as well as travel time and speed plots if desired. The travel time and speed plots are not published, but are useful in visualizing and understanding the data."
   ]
  },
  {
   "cell_type": "code",
   "execution_count": null,
   "metadata": {},
   "outputs": [],
   "source": [
    "interface = '0_Interface.xlsx'\n",
    "sheet = 'Inputs'\n",
    "\n",
    "#------------------------------------------------------------------------------\n",
    "# You shouldn't need to edit anything below this line\n",
    "#------------------------------------------------------------------------------\n",
    "\n",
    "# get inputs from 0_Interface.xlsx \n",
    "inputs = get_inputs('4b', interface, sheet)\n",
    "\n",
    "plot_types = inputs['plot_types']\n",
    "\n",
    "for name, obj in objs.iteritems():\n",
    "    print('\\nPlotting %s'%name)\n",
    "    obj.read_com_xl()\n",
    "    obj.plot(plot_types)\n",
    "\n",
    "print('\\n\\nDone plotting')"
   ]
  },
  {
   "cell_type": "markdown",
   "metadata": {},
   "source": [
    "#### Update Region Object\n",
    "\n",
    "This cell will update Region objects in the objs dictionary. Updating means re-loading and analyzing all commutes indicated (by not being excluded with 'x') in the relevant *[region]_Commutes.xlsx* file.\n",
    "\n",
    "For example, if I have already built a NWR Region object and later need to change one or more of the input files for the \"I-5 Seattle to SeaTac\" commute, I can use this cell to rebuild only this Commute object instead of rebuilding the entire region. To do this, I would use the \"Build objs dictionary from Region object files\" cell to read the NWR Region binary file into the objs dictionary, mark all but the \"I-5 Seattle to SeaTac\" commutes with 'x' in the *NWR_Commutes.xlsx* file (and save the file), then run this cell. This will rebuid only the desired Commute object instead of the entire Region object. The new Region object can then be plotted and exported again to Excel and .dat with the updated results."
   ]
  },
  {
   "cell_type": "code",
   "execution_count": null,
   "metadata": {},
   "outputs": [],
   "source": [
    "interface = '0_Interface.xlsx'\n",
    "sheet = 'Inputs'\n",
    "\n",
    "#------------------------------------------------------------------------------\n",
    "# You shouldn't need to edit anything below this line\n",
    "#------------------------------------------------------------------------------\n",
    "\n",
    "suffix = inputs['suffix_out']\n",
    "\n",
    "regions = get_batchlist('commute')\n",
    "\n",
    "for reg, obj in objs.iteritems():\n",
    "    if obj.name in regions:\n",
    "        print('\\nUpdating %s'%reg)\n",
    "        obj.update()\n",
    "\n",
    "\n",
    "print('Done updating Region(s)')"
   ]
  }
 ],
 "metadata": {
  "kernelspec": {
   "display_name": "Python 2",
   "language": "python",
   "name": "python2"
  },
  "language_info": {
   "codemirror_mode": {
    "name": "ipython",
    "version": 2
   },
   "file_extension": ".py",
   "mimetype": "text/x-python",
   "name": "python",
   "nbconvert_exporter": "python",
   "pygments_lexer": "ipython2",
   "version": "2.7.15"
  }
 },
 "nbformat": 4,
 "nbformat_minor": 2
}
