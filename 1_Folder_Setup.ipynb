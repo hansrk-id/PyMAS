{
 "cells": [
  {
   "cell_type": "markdown",
   "metadata": {},
   "source": [
    "# 1 Folder Setup\n",
    "\n",
    "This function sets up the subdirectory structure for PyMAS. It creates a base folder for the current CCR and subfolders for inputs (configuration files), data inputs, corridor and commute outputs, and plots. \n",
    "\n",
    "## Inputs\n",
    "The only required inputs are: \n",
    "\n",
    "CCR : this is a string variable naming the current CCR (e.g. 'CCR 18'). This will be the base folder and all subsequent scripts with the 'ccr' variable **must** match this.\n",
    "\n",
    "Base Year, Current Year : these are the analysis years for the current CCR (e.g. 2015 and 2017, respectively, for CCR 18)."
   ]
  },
  {
   "cell_type": "markdown",
   "metadata": {},
   "source": [
    "## Main Code Block"
   ]
  },
  {
   "cell_type": "code",
   "execution_count": null,
   "metadata": {},
   "outputs": [],
   "source": [
    "interface = '0_Interface.xlsx'\n",
    "sheet = 'Inputs'\n",
    "\n",
    "#------------------------------------------------------------------------------\n",
    "# You shouldn't need to edit anything below this line\n",
    "#------------------------------------------------------------------------------\n",
    "\n",
    "# import dependancies\n",
    "from pymas.corridor_tools import folder_setup, get_inputs\n",
    "\n",
    "# get inputs from 0_Interface.xlsx \n",
    "inputs = get_inputs(interface=interface, sheet=sheet)\n",
    "base_year = inputs['base_year']\n",
    "curr_year = inputs['curr_year']\n",
    "ccr = inputs['ccr']\n",
    "\n",
    "yrs = [base_year, curr_year]\n",
    "\n",
    "folder_setup(ccr, yrs)"
   ]
  }
 ],
 "metadata": {
  "kernelspec": {
   "display_name": "Python 2",
   "language": "python",
   "name": "python2"
  },
  "language_info": {
   "codemirror_mode": {
    "name": "ipython",
    "version": 2
   },
   "file_extension": ".py",
   "mimetype": "text/x-python",
   "name": "python",
   "nbconvert_exporter": "python",
   "pygments_lexer": "ipython2",
   "version": "2.7.15"
  }
 },
 "nbformat": 4,
 "nbformat_minor": 2
}
